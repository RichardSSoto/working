{
  "nbformat": 4,
  "nbformat_minor": 0,
  "metadata": {
    "kernelspec": {
      "display_name": "Python 3",
      "language": "python",
      "name": "python3"
    },
    "language_info": {
      "codemirror_mode": {
        "name": "ipython",
        "version": 3
      },
      "file_extension": ".py",
      "mimetype": "text/x-python",
      "name": "python",
      "nbconvert_exporter": "python",
      "pygments_lexer": "ipython3",
      "version": "3.6.8"
    },
    "colab": {
      "name": "02-Numpy Ex.ipynb",
      "provenance": [],
      "collapsed_sections": []
    }
  },
  "cells": [
    {
      "cell_type": "markdown",
      "metadata": {
        "id": "-lDJ8lQ7eA9L"
      },
      "source": [
        "# NumPy Ex"
      ]
    },
    {
      "cell_type": "markdown",
      "metadata": {
        "id": "qEJt3PiHeA9M"
      },
      "source": [
        "#### Import NumPy as np"
      ]
    },
    {
      "cell_type": "code",
      "metadata": {
        "collapsed": true,
        "id": "NX1UlrM7eA9N"
      },
      "source": [
        ""
      ],
      "execution_count": null,
      "outputs": []
    },
    {
      "cell_type": "markdown",
      "metadata": {
        "id": "iHsHQJ1meA9O"
      },
      "source": [
        "#### Crea array de 10 ceros "
      ]
    },
    {
      "cell_type": "code",
      "metadata": {
        "id": "txPAW5nBeA9O",
        "outputId": "deccc4c3-b56e-4d6d-dde1-85dda5d8f098"
      },
      "source": [
        ""
      ],
      "execution_count": null,
      "outputs": [
        {
          "output_type": "execute_result",
          "data": {
            "text/plain": [
              "array([ 0.,  0.,  0.,  0.,  0.,  0.,  0.,  0.,  0.,  0.])"
            ]
          },
          "metadata": {
            "tags": []
          },
          "execution_count": 2
        }
      ]
    },
    {
      "cell_type": "markdown",
      "metadata": {
        "id": "jz0xHA9GeA9P"
      },
      "source": [
        "#### Crea array de 10 unos"
      ]
    },
    {
      "cell_type": "code",
      "metadata": {
        "id": "96AJfbT5eA9P",
        "outputId": "094b7b62-b5f7-4a7f-9731-4488c9043961"
      },
      "source": [
        ""
      ],
      "execution_count": null,
      "outputs": [
        {
          "output_type": "execute_result",
          "data": {
            "text/plain": [
              "array([ 1.,  1.,  1.,  1.,  1.,  1.,  1.,  1.,  1.,  1.])"
            ]
          },
          "metadata": {
            "tags": []
          },
          "execution_count": 3
        }
      ]
    },
    {
      "cell_type": "markdown",
      "metadata": {
        "id": "kW3v2NdreA9P"
      },
      "source": [
        "#### Crea array de 10 cincos"
      ]
    },
    {
      "cell_type": "code",
      "metadata": {
        "id": "8SEynCVxeA9Q",
        "outputId": "78715039-e20f-43c2-bac8-245732f65be7"
      },
      "source": [
        ""
      ],
      "execution_count": null,
      "outputs": [
        {
          "output_type": "execute_result",
          "data": {
            "text/plain": [
              "array([ 5.,  5.,  5.,  5.,  5.,  5.,  5.,  5.,  5.,  5.])"
            ]
          },
          "metadata": {
            "tags": []
          },
          "execution_count": 4
        }
      ]
    },
    {
      "cell_type": "markdown",
      "metadata": {
        "id": "-ryPsgQVeA9Q"
      },
      "source": [
        "#### Crea un array de enteros desde 10 hasta 50"
      ]
    },
    {
      "cell_type": "code",
      "metadata": {
        "id": "QOEtgDX5eA9Q",
        "outputId": "6c255787-b406-490f-f2de-22605cf0814d"
      },
      "source": [
        ""
      ],
      "execution_count": null,
      "outputs": [
        {
          "output_type": "execute_result",
          "data": {
            "text/plain": [
              "array([10, 11, 12, 13, 14, 15, 16, 17, 18, 19, 20, 21, 22, 23, 24, 25, 26,\n",
              "       27, 28, 29, 30, 31, 32, 33, 34, 35, 36, 37, 38, 39, 40, 41, 42, 43,\n",
              "       44, 45, 46, 47, 48, 49, 50])"
            ]
          },
          "metadata": {
            "tags": []
          },
          "execution_count": 5
        }
      ]
    },
    {
      "cell_type": "markdown",
      "metadata": {
        "id": "WFqt8kIeeA9R"
      },
      "source": [
        "#### Crea un array de enteros pares desde 10 hasta 50"
      ]
    },
    {
      "cell_type": "code",
      "metadata": {
        "id": "lS_sZf1heA9R",
        "outputId": "3eb01bbe-d3eb-4cc5-d3d9-31b814c35ba0"
      },
      "source": [
        ""
      ],
      "execution_count": null,
      "outputs": [
        {
          "output_type": "execute_result",
          "data": {
            "text/plain": [
              "array([10, 12, 14, 16, 18, 20, 22, 24, 26, 28, 30, 32, 34, 36, 38, 40, 42,\n",
              "       44, 46, 48, 50])"
            ]
          },
          "metadata": {
            "tags": []
          },
          "execution_count": 6
        }
      ]
    },
    {
      "cell_type": "markdown",
      "metadata": {
        "id": "iK8tVbwJeA9R"
      },
      "source": [
        "#### Crea una matriz 3x3 con valores de 0 a 8"
      ]
    },
    {
      "cell_type": "code",
      "metadata": {
        "id": "5sxK2OK7eA9R",
        "outputId": "7509bb62-8e26-4102-a1d4-ae2397da42bb"
      },
      "source": [
        ""
      ],
      "execution_count": null,
      "outputs": [
        {
          "output_type": "execute_result",
          "data": {
            "text/plain": [
              "array([[0, 1, 2],\n",
              "       [3, 4, 5],\n",
              "       [6, 7, 8]])"
            ]
          },
          "metadata": {
            "tags": []
          },
          "execution_count": 7
        }
      ]
    },
    {
      "cell_type": "markdown",
      "metadata": {
        "id": "p5rQ-TpZeA9S"
      },
      "source": [
        "#### Crea una matriz identidad 3x3"
      ]
    },
    {
      "cell_type": "code",
      "metadata": {
        "id": "RGrOWI58eA9S",
        "outputId": "e07d21cd-cf8f-4ea2-d72d-efc4551a5a25"
      },
      "source": [
        ""
      ],
      "execution_count": null,
      "outputs": [
        {
          "output_type": "execute_result",
          "data": {
            "text/plain": [
              "array([[ 1.,  0.,  0.],\n",
              "       [ 0.,  1.,  0.],\n",
              "       [ 0.,  0.,  1.]])"
            ]
          },
          "metadata": {
            "tags": []
          },
          "execution_count": 8
        }
      ]
    },
    {
      "cell_type": "markdown",
      "metadata": {
        "id": "V5dKlOgleA9S"
      },
      "source": [
        "#### Genera un número random entre 0 y 1"
      ]
    },
    {
      "cell_type": "code",
      "metadata": {
        "id": "9gqetPJbeA9S",
        "outputId": "a1d3b711-23e3-46b6-ccfa-ba66fb2829a6"
      },
      "source": [
        ""
      ],
      "execution_count": null,
      "outputs": [
        {
          "output_type": "execute_result",
          "data": {
            "text/plain": [
              "array([ 0.42829726])"
            ]
          },
          "metadata": {
            "tags": []
          },
          "execution_count": 15
        }
      ]
    },
    {
      "cell_type": "markdown",
      "metadata": {
        "id": "vxj5is9SeA9T"
      },
      "source": [
        "#### Genera un array de 25 random numbers muestreados desde una distribución normal"
      ]
    },
    {
      "cell_type": "code",
      "metadata": {
        "id": "7CKz4NiLeA9T",
        "outputId": "6c15ae64-b0e3-4c91-c00c-cb972300c11f"
      },
      "source": [
        ""
      ],
      "execution_count": null,
      "outputs": [
        {
          "output_type": "execute_result",
          "data": {
            "text/plain": [
              "array([ 1.32031013,  1.6798602 , -0.42985892, -1.53116655,  0.85753232,\n",
              "        0.87339938,  0.35668636, -1.47491157,  0.15349697,  0.99530727,\n",
              "       -0.94865451, -1.69174783,  1.57525349, -0.70615234,  0.10991879,\n",
              "       -0.49478947,  1.08279872,  0.76488333, -2.3039931 ,  0.35401124,\n",
              "       -0.45454399, -0.64754649, -0.29391671,  0.02339861,  0.38272124])"
            ]
          },
          "metadata": {
            "tags": []
          },
          "execution_count": 33
        }
      ]
    },
    {
      "cell_type": "markdown",
      "metadata": {
        "id": "8Oc1iOLzeA9U"
      },
      "source": [
        "#### Crea la matriz del OUT35"
      ]
    },
    {
      "cell_type": "code",
      "metadata": {
        "id": "RmfAAEzUeA9U",
        "outputId": "b4436b0b-d1ca-4fdf-e0f7-652b8e58e747"
      },
      "source": [
        ""
      ],
      "execution_count": null,
      "outputs": [
        {
          "output_type": "execute_result",
          "data": {
            "text/plain": [
              "array([[ 0.01,  0.02,  0.03,  0.04,  0.05,  0.06,  0.07,  0.08,  0.09,  0.1 ],\n",
              "       [ 0.11,  0.12,  0.13,  0.14,  0.15,  0.16,  0.17,  0.18,  0.19,  0.2 ],\n",
              "       [ 0.21,  0.22,  0.23,  0.24,  0.25,  0.26,  0.27,  0.28,  0.29,  0.3 ],\n",
              "       [ 0.31,  0.32,  0.33,  0.34,  0.35,  0.36,  0.37,  0.38,  0.39,  0.4 ],\n",
              "       [ 0.41,  0.42,  0.43,  0.44,  0.45,  0.46,  0.47,  0.48,  0.49,  0.5 ],\n",
              "       [ 0.51,  0.52,  0.53,  0.54,  0.55,  0.56,  0.57,  0.58,  0.59,  0.6 ],\n",
              "       [ 0.61,  0.62,  0.63,  0.64,  0.65,  0.66,  0.67,  0.68,  0.69,  0.7 ],\n",
              "       [ 0.71,  0.72,  0.73,  0.74,  0.75,  0.76,  0.77,  0.78,  0.79,  0.8 ],\n",
              "       [ 0.81,  0.82,  0.83,  0.84,  0.85,  0.86,  0.87,  0.88,  0.89,  0.9 ],\n",
              "       [ 0.91,  0.92,  0.93,  0.94,  0.95,  0.96,  0.97,  0.98,  0.99,  1.  ]])"
            ]
          },
          "metadata": {
            "tags": []
          },
          "execution_count": 35
        }
      ]
    },
    {
      "cell_type": "markdown",
      "metadata": {
        "id": "igkCCGSpeA9U"
      },
      "source": [
        "#### Crea un array de 20 espacios que vayan entre 0 y1."
      ]
    },
    {
      "cell_type": "code",
      "metadata": {
        "id": "zN_m8Bi3eA9V",
        "outputId": "fa26ef30-758a-48ce-9ab4-ec2709b7a796"
      },
      "source": [
        ""
      ],
      "execution_count": null,
      "outputs": [
        {
          "output_type": "execute_result",
          "data": {
            "text/plain": [
              "array([ 0.        ,  0.05263158,  0.10526316,  0.15789474,  0.21052632,\n",
              "        0.26315789,  0.31578947,  0.36842105,  0.42105263,  0.47368421,\n",
              "        0.52631579,  0.57894737,  0.63157895,  0.68421053,  0.73684211,\n",
              "        0.78947368,  0.84210526,  0.89473684,  0.94736842,  1.        ])"
            ]
          },
          "metadata": {
            "tags": []
          },
          "execution_count": 36
        }
      ]
    },
    {
      "cell_type": "markdown",
      "metadata": {
        "id": "fQGCnI8PeA9V"
      },
      "source": [
        "## Numpy Indexing and Selection\n",
        "\n",
        "Replica los resultados de los OUT's, utilizando la matriz dada"
      ]
    },
    {
      "cell_type": "code",
      "metadata": {
        "id": "YcN4cbcWeA9W",
        "outputId": "742978c8-fd86-4303-8e06-bbfa27fc111f"
      },
      "source": [
        "#antes de ejecutar esta línea miren los resultados siguientes para q vean q se pide\n",
        "mat = np.arange(1,26).reshape(5,5)\n",
        "mat"
      ],
      "execution_count": null,
      "outputs": [
        {
          "output_type": "execute_result",
          "data": {
            "text/plain": [
              "array([[ 1,  2,  3,  4,  5],\n",
              "       [ 6,  7,  8,  9, 10],\n",
              "       [11, 12, 13, 14, 15],\n",
              "       [16, 17, 18, 19, 20],\n",
              "       [21, 22, 23, 24, 25]])"
            ]
          },
          "metadata": {
            "tags": []
          },
          "execution_count": 38
        }
      ]
    },
    {
      "cell_type": "code",
      "metadata": {
        "id": "nYPbb2CUeA9W",
        "outputId": "24ea7763-3b91-4106-bd6c-09558291af3e"
      },
      "source": [
        ""
      ],
      "execution_count": null,
      "outputs": [
        {
          "output_type": "execute_result",
          "data": {
            "text/plain": [
              "array([[12, 13, 14, 15],\n",
              "       [17, 18, 19, 20],\n",
              "       [22, 23, 24, 25]])"
            ]
          },
          "metadata": {
            "tags": []
          },
          "execution_count": 40
        }
      ]
    },
    {
      "cell_type": "code",
      "metadata": {
        "id": "X5IEIfo7eA9X"
      },
      "source": [
        "# Utiliza la celda precedente"
      ],
      "execution_count": null,
      "outputs": []
    },
    {
      "cell_type": "code",
      "metadata": {
        "id": "WbgCxcQDeA9X",
        "outputId": "f1e4992e-bb5b-4cf7-e97f-7ffbcf112cc7"
      },
      "source": [
        ""
      ],
      "execution_count": null,
      "outputs": [
        {
          "output_type": "execute_result",
          "data": {
            "text/plain": [
              "20"
            ]
          },
          "metadata": {
            "tags": []
          },
          "execution_count": 41
        }
      ]
    },
    {
      "cell_type": "code",
      "metadata": {
        "id": "XOUTg9qBeA9Y",
        "outputId": "6dd36763-7f75-421d-cc4c-537d5f3dbae2"
      },
      "source": [
        ""
      ],
      "execution_count": null,
      "outputs": [
        {
          "output_type": "execute_result",
          "data": {
            "text/plain": [
              "array([[ 2],\n",
              "       [ 7],\n",
              "       [12]])"
            ]
          },
          "metadata": {
            "tags": []
          },
          "execution_count": 42
        }
      ]
    },
    {
      "cell_type": "code",
      "metadata": {
        "id": "_rBBF0jceA9Y",
        "outputId": "02a899da-ebeb-482e-b000-35aac3c8131f"
      },
      "source": [
        ""
      ],
      "execution_count": null,
      "outputs": [
        {
          "output_type": "execute_result",
          "data": {
            "text/plain": [
              "array([21, 22, 23, 24, 25])"
            ]
          },
          "metadata": {
            "tags": []
          },
          "execution_count": 46
        }
      ]
    },
    {
      "cell_type": "code",
      "metadata": {
        "id": "sJ5XEVvKeA9Y",
        "outputId": "462502b9-b095-4dc6-9cf1-74a3d851004c"
      },
      "source": [
        ""
      ],
      "execution_count": null,
      "outputs": [
        {
          "output_type": "execute_result",
          "data": {
            "text/plain": [
              "array([[16, 17, 18, 19, 20],\n",
              "       [21, 22, 23, 24, 25]])"
            ]
          },
          "metadata": {
            "tags": []
          },
          "execution_count": 49
        }
      ]
    },
    {
      "cell_type": "markdown",
      "metadata": {
        "id": "KfQzw0LTeA9Z"
      },
      "source": [
        "#### Obtener la suma de todos los valores en mat"
      ]
    },
    {
      "cell_type": "code",
      "metadata": {
        "id": "iWeMHae0eA9Z",
        "outputId": "e8833e88-aede-439d-8ef5-e07fb29d8410"
      },
      "source": [
        ""
      ],
      "execution_count": null,
      "outputs": [
        {
          "output_type": "execute_result",
          "data": {
            "text/plain": [
              "325"
            ]
          },
          "metadata": {
            "tags": []
          },
          "execution_count": 50
        }
      ]
    },
    {
      "cell_type": "markdown",
      "metadata": {
        "id": "KxlNdGrNeA9Z"
      },
      "source": [
        "#### Obtener la desviación estándar de todos los valores en mat"
      ]
    },
    {
      "cell_type": "code",
      "metadata": {
        "id": "s-nVVdn7eA9Z",
        "outputId": "c375cb6f-89a5-4e17-8bbd-a782f9b5f814"
      },
      "source": [
        ""
      ],
      "execution_count": null,
      "outputs": [
        {
          "output_type": "execute_result",
          "data": {
            "text/plain": [
              "7.2111025509279782"
            ]
          },
          "metadata": {
            "tags": []
          },
          "execution_count": 51
        }
      ]
    },
    {
      "cell_type": "markdown",
      "metadata": {
        "id": "xQQoT9f6eA9a"
      },
      "source": [
        "#### Obtener la suma de todas las columnas en mat"
      ]
    },
    {
      "cell_type": "code",
      "metadata": {
        "id": "tx6s9-iReA9a",
        "outputId": "a5831e97-1f35-4334-92d3-dfc711903e8d"
      },
      "source": [
        ""
      ],
      "execution_count": null,
      "outputs": [
        {
          "output_type": "execute_result",
          "data": {
            "text/plain": [
              "array([55, 60, 65, 70, 75])"
            ]
          },
          "metadata": {
            "tags": []
          },
          "execution_count": 53
        }
      ]
    },
    {
      "cell_type": "markdown",
      "metadata": {
        "id": "ELduyEb1eKj2"
      },
      "source": [
        "#### Runge Kutta 4\n",
        "El método RK (de orden s) tiene la siguiente expresión, en su forma más general:\n",
        "\n",
        "$${\\displaystyle y_{n+1}=y_{n}+h\\,\\sum _{i=1}^{s}b_{i}k_{i}} \\qquad \\qquad (1)$$\n",
        "\n",
        "\n",
        "donde h es el paso por iteración, o lo que es lo mismo, el incremento ${\\displaystyle \\Delta t_{n}}$ entre los sucesivos puntos ${\\displaystyle t_{n}}$ y ${\\displaystyle t_{n+1}}$. Los coeficientes ${\\displaystyle k_{i}}$ son términos de aproximación intermedios, evaluados en ƒ de manera local\n",
        "\n",
        "$${\\displaystyle k_{i}=f\\left(t_{n}+h\\,c_{i}\\,,y_{n}+h\\,\\sum _{j=1}^{s}a_{ij}k_{j}\\right)\\quad i=1,...,s.} \\qquad \\qquad (2)$$\n",
        "\n",
        "con ${\\displaystyle a_{ij},b_{i},c_{i}}$ coeficientes propios del esquema numérico elegido, dependiente de la regla de cuadratura utilizada. Los esquemas Runge-Kutta pueden ser explícitos o implícitos dependiendo de las constantes ${\\displaystyle a_{ij}}$ del esquema. Si esta matriz es triangular inferior con todos los elementos de la diagonal principal iguales a cero; es decir, ${\\displaystyle a_{ij}=0}$ para ${\\displaystyle j=i,...,s}$, los esquemas son explícitos.\n",
        "\n",
        "De (1) y (2), para s=4, obtenemos el método de RK4:\n",
        "\n",
        "\\begin{equation}\n",
        "\\left\\{\n",
        "\t       \\begin{array}{ll}\n",
        "\t\t x_{i+1} = x_i +\\Delta x \\\\\n",
        "\t\t y_{i+1} = y_i + \\frac{\\Delta x}{6} \\left( K_1 + 2K_2 +2 K_3 +K_4 \\right)\n",
        "\t       \\end{array}\n",
        "\t     \\right.\n",
        "\\end{equation}\n",
        "\n",
        "donde: \n",
        "\n",
        "\\begin{equation}\n",
        "\\left\\{\n",
        "\t       \\begin{array}{ll}\n",
        "\t\t K_1 = f(x_i,y_i) \\\\\n",
        "\t\t K_2 = f\\left( x_i + \\frac{\\Delta x}{2},y_i + \\frac{\\Delta x}{2} K_1\\right) \\\\\n",
        "         K_3 = f\\left( x_i + \\frac{\\Delta x}{2},y_i + \\frac{\\Delta x}{2} K_2\\right) \\\\\n",
        "         K_4 = f(x_i +\\Delta x,y_i +\\Delta x K_3)\n",
        "\t       \\end{array}\n",
        "\t     \\right.\n",
        "\\end{equation}\n",
        "\n",
        "De aqui vemos que el método RK4 toma una mejor estimacion de la pendiente, ya que (dado un intervalo $[x_i,x_{i+1}]$) considera un promedio ponderado de la pendiente en el extremo izquierdo $K_1$, dos pendientes mejoradas en el punto medio $K_2$ y $K_3$ y una pendiente en el extremo derecho $K_4$. "
      ]
    },
    {
      "cell_type": "markdown",
      "metadata": {
        "id": "sH7n2WCLh9VZ"
      },
      "source": [
        "Considere el siguiente PVI:\n",
        "\\begin{equation}\n",
        "\\left\\{\n",
        "\t       \\begin{array}{ll}\n",
        "\t\t y' = 2xy-x \\\\\n",
        "\t\t y(0) = 0.4\n",
        "\t       \\end{array}\n",
        "\t     \\right.\n",
        "\\end{equation}\n",
        "\n",
        "Sabiendo que la solucion exacta al problema de valor inicial planteado esta dada por:\n",
        "$$\n",
        "    y(t) = -\\frac{1}{10}e^{x^2} + \\frac{1}{2}\n",
        "$$\n",
        "Primero construya una funcion que le permita identificar el $f(x,y)$ de la ecuacion diferencial.\n",
        "Segundo, construya una funcion \"ex_sol(x)\" que le permita calcular la solucion exacta.\n",
        "\n",
        "Obtenga las soluciones por Euler y RK4 al PVI planteado usando $20$ iteraciones y calculando la solucion hasta un $x_f = 3.0$. Luego grafique ambas soluciones numéricas junto con la solucion exacta y compare"
      ]
    },
    {
      "cell_type": "code",
      "metadata": {
        "id": "B1eROu14muvd"
      },
      "source": [
        "import matplotlib.pyplot as plt"
      ],
      "execution_count": null,
      "outputs": []
    },
    {
      "cell_type": "code",
      "metadata": {
        "id": "dHZwyBxfeMuP"
      },
      "source": [
        "def rk4(f,x0,y0,xf,nd):\n",
        "\n",
        "  return x,y"
      ],
      "execution_count": null,
      "outputs": []
    },
    {
      "cell_type": "code",
      "metadata": {
        "id": "7FA2yS2PiWSy"
      },
      "source": [
        "def f(x,y):\n",
        "    return 2*x*y - x\n",
        "\n",
        "def ex_sol(x):\n",
        "    return (-1.0/10)*np.exp(x**2)-0.5"
      ],
      "execution_count": null,
      "outputs": []
    },
    {
      "cell_type": "code",
      "metadata": {
        "id": "h9KeQrJ_ie0q"
      },
      "source": [
        "xr, yy = rk4(  ) \n",
        "vsol = np.vectorize(ex_sol)\n",
        "yex = vsol(xx)\n",
        "\n",
        "plt.plot(xx,yy,'b*',label = 'rk4')\n",
        "plt.plot(xx,yex,'g')\n",
        "plt.grid(True)\n",
        "plt.legend()"
      ],
      "execution_count": null,
      "outputs": []
    },
    {
      "cell_type": "markdown",
      "metadata": {
        "id": "AiMyFzbGminY"
      },
      "source": [
        "#### Lorenz Attractor\n",
        "![image.png](data:image/png;base64,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)"
      ]
    },
    {
      "cell_type": "markdown",
      "metadata": {
        "id": "NKqkwBf1m-XF"
      },
      "source": [
        "La ecuación diferencial de Lorenz se representa de la siguiente manera.\n",
        "\n",
        "$${\\frac{dx}{dt}=s(y-x)}$$\n",
        "$${\\frac{dy}{dt}=rx-y-xz}$$\n",
        "$${\\frac{dz}{dt}=xy-bz}$$\n",
        "\n",
        "Donde:\n",
        "$s=10,r=28, b=2.667$\n",
        "\n",
        "Las condiciones iniciales son:\n",
        "$x(0)=1, y(0)=1 , z(0)=1.05$\n",
        "\n",
        "Para poder resolver el problema:\n",
        "* Utilizar Diferencias Finitas para aproximar las derivadas. \n",
        "* Almacenar los valores en vectores.\n",
        "* Utilizar el código de ayuda para plotear"
      ]
    },
    {
      "cell_type": "code",
      "metadata": {
        "id": "MJTmtkA0mn9B"
      },
      "source": [
        "def lorenz(x, y, z, s=10, r=28, b=2.667):\n",
        "    #aquí definen las edos\n",
        "    \n",
        "    return x_dot, y_dot, z_dot"
      ],
      "execution_count": null,
      "outputs": []
    },
    {
      "cell_type": "code",
      "metadata": {
        "id": "JLUjZBr8pCrv"
      },
      "source": [
        "dt = 0.01\n",
        "num_steps = 10000\n",
        "\n",
        "# Crear vectores vacíos\n",
        "xs = np.empty(num_steps + 1)\n",
        "ys = np.empty(num_steps + 1)\n",
        "zs = np.empty(num_steps + 1)\n",
        "\n",
        "# Valores Iniciales\n",
        "xs[0], ys[0], zs[0] = ()\n",
        "\n",
        "# Diferencias Finitas\n",
        "for i in range(num_steps):\n",
        "    x_dot, y_dot, z_dot = lorenz(xs[i], ys[i], zs[i])\n",
        "    #aquí en adelante usan diferencias finitas paso adelante\n",
        "\n"
      ],
      "execution_count": null,
      "outputs": []
    },
    {
      "cell_type": "code",
      "metadata": {
        "id": "OYH_L2PJeDfb"
      },
      "source": [
        "# Plot, solo ejecutar\n",
        "ax = plt.figure().add_subplot(projection='3d')\n",
        "\n",
        "ax.plot(xs, ys, zs, lw=0.5)\n",
        "ax.set_xlabel(\"X\")\n",
        "ax.set_ylabel(\"Y\")\n",
        "ax.set_zlabel(\"Z\")\n",
        "ax.set_title(\"Lorenz Attractor\")\n",
        "\n",
        "plt.show()"
      ],
      "execution_count": null,
      "outputs": []
    }
  ]
}