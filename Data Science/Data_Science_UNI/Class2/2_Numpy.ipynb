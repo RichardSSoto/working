{
  "nbformat": 4,
  "nbformat_minor": 0,
  "metadata": {
    "colab": {
      "name": "2 Numpy.ipynb",
      "provenance": [],
      "collapsed_sections": []
    },
    "kernelspec": {
      "name": "python3",
      "display_name": "Python 3"
    },
    "language_info": {
      "name": "python"
    }
  },
  "cells": [
    {
      "cell_type": "markdown",
      "metadata": {
        "id": "K-R_A_rZkIkV"
      },
      "source": [
        "# Paquete Numpy"
      ]
    },
    {
      "cell_type": "code",
      "metadata": {
        "id": "g-ESL7iajzcZ"
      },
      "source": [
        "#scipy\n",
        "#simpy\n",
        "#!pip install numpy==1.18\n",
        "import numpy as np"
      ],
      "execution_count": 1,
      "outputs": []
    },
    {
      "cell_type": "markdown",
      "metadata": {
        "id": "Zoc46Y2SlKFt"
      },
      "source": [
        "# Numpy Array"
      ]
    },
    {
      "cell_type": "code",
      "metadata": {
        "id": "J3e0fQLvlIjX"
      },
      "source": [
        "my_list = [1,2,3]"
      ],
      "execution_count": 2,
      "outputs": []
    },
    {
      "cell_type": "code",
      "metadata": {
        "colab": {
          "base_uri": "https://localhost:8080/"
        },
        "id": "A_RTbcWDlO2f",
        "outputId": "267cd51f-300d-4908-ea2f-473dbcac1af8"
      },
      "source": [
        "np.array(my_list)"
      ],
      "execution_count": 3,
      "outputs": [
        {
          "output_type": "execute_result",
          "data": {
            "text/plain": [
              "array([1, 2, 3])"
            ]
          },
          "metadata": {
            "tags": []
          },
          "execution_count": 3
        }
      ]
    },
    {
      "cell_type": "code",
      "metadata": {
        "id": "6O7ndIMilaAs"
      },
      "source": [
        "my_matrix = [[1,2,3],[4,5,6],[6,7,8]]"
      ],
      "execution_count": 4,
      "outputs": []
    },
    {
      "cell_type": "code",
      "metadata": {
        "colab": {
          "base_uri": "https://localhost:8080/"
        },
        "id": "UmmI8cHGlmw2",
        "outputId": "0dd19e45-be11-41f3-e38a-0b3db982a792"
      },
      "source": [
        "np.array(my_matrix)"
      ],
      "execution_count": 5,
      "outputs": [
        {
          "output_type": "execute_result",
          "data": {
            "text/plain": [
              "array([[1, 2, 3],\n",
              "       [4, 5, 6],\n",
              "       [6, 7, 8]])"
            ]
          },
          "metadata": {
            "tags": []
          },
          "execution_count": 5
        }
      ]
    },
    {
      "cell_type": "markdown",
      "metadata": {
        "id": "LjEE4-lTluiO"
      },
      "source": [
        "# Métodos en Numpy"
      ]
    },
    {
      "cell_type": "code",
      "metadata": {
        "colab": {
          "base_uri": "https://localhost:8080/"
        },
        "id": "sPfwYt1QlqE2",
        "outputId": "6c40b23d-495b-4d5a-a2f9-8e34820475bf"
      },
      "source": [
        "np.array(list(range(0,10)))"
      ],
      "execution_count": 7,
      "outputs": [
        {
          "output_type": "execute_result",
          "data": {
            "text/plain": [
              "array([0, 1, 2, 3, 4, 5, 6, 7, 8, 9])"
            ]
          },
          "metadata": {
            "tags": []
          },
          "execution_count": 7
        }
      ]
    },
    {
      "cell_type": "code",
      "metadata": {
        "colab": {
          "base_uri": "https://localhost:8080/"
        },
        "id": "g9_XSjHbl6SK",
        "outputId": "bb2f32b8-efef-43df-e9ab-d31c31baf474"
      },
      "source": [
        "np.arange(0,10)"
      ],
      "execution_count": 8,
      "outputs": [
        {
          "output_type": "execute_result",
          "data": {
            "text/plain": [
              "array([0, 1, 2, 3, 4, 5, 6, 7, 8, 9])"
            ]
          },
          "metadata": {
            "tags": []
          },
          "execution_count": 8
        }
      ]
    },
    {
      "cell_type": "code",
      "metadata": {
        "colab": {
          "base_uri": "https://localhost:8080/"
        },
        "id": "54RwOZBGmAXK",
        "outputId": "4e43a50b-3833-4afb-cb0a-79b2bf75695d"
      },
      "source": [
        "np.arange(0,10,2)"
      ],
      "execution_count": 9,
      "outputs": [
        {
          "output_type": "execute_result",
          "data": {
            "text/plain": [
              "array([0, 2, 4, 6, 8])"
            ]
          },
          "metadata": {
            "tags": []
          },
          "execution_count": 9
        }
      ]
    },
    {
      "cell_type": "code",
      "metadata": {
        "colab": {
          "base_uri": "https://localhost:8080/"
        },
        "id": "JZibdpz-mFpb",
        "outputId": "0c0ddd69-9464-40f2-9f97-79bc92188248"
      },
      "source": [
        "np.empty((10,10))"
      ],
      "execution_count": 10,
      "outputs": [
        {
          "output_type": "execute_result",
          "data": {
            "text/plain": [
              "array([[4.68391362e-310, 6.90874028e-310, 6.90874028e-310,\n",
              "        6.90874022e-310, 6.90874028e-310, 6.90874022e-310,\n",
              "        6.90874028e-310, 6.90874028e-310, 6.90874028e-310,\n",
              "        6.90874019e-310],\n",
              "       [6.90874028e-310, 6.90874015e-310, 6.90874015e-310,\n",
              "        6.90874015e-310, 6.90874015e-310, 6.90874015e-310,\n",
              "        6.90874022e-310, 6.90874017e-310, 6.90874015e-310,\n",
              "        6.90874015e-310],\n",
              "       [6.90874015e-310, 6.90874015e-310, 6.90874015e-310,\n",
              "        6.90874015e-310, 6.90874015e-310, 6.90874015e-310,\n",
              "        6.90874015e-310, 6.90874015e-310, 6.90874015e-310,\n",
              "        6.90874015e-310],\n",
              "       [6.90874015e-310, 6.90874015e-310, 6.90874015e-310,\n",
              "        6.90874015e-310, 6.90874015e-310, 6.90874015e-310,\n",
              "        6.90874015e-310, 6.90874015e-310, 6.90874015e-310,\n",
              "        6.90874015e-310],\n",
              "       [6.90874015e-310, 6.90874017e-310, 6.90874017e-310,\n",
              "        6.90874015e-310, 6.90874019e-310, 6.90874015e-310,\n",
              "        6.90874015e-310, 6.90874015e-310, 6.90874015e-310,\n",
              "        6.90874015e-310],\n",
              "       [6.90874015e-310, 6.90874019e-310, 6.90874015e-310,\n",
              "        6.90874015e-310, 6.90874015e-310, 6.90874015e-310,\n",
              "        6.90874015e-310, 6.90874015e-310, 6.90874015e-310,\n",
              "        6.90874015e-310],\n",
              "       [6.90874015e-310, 6.90874015e-310, 6.90874019e-310,\n",
              "        6.90874019e-310, 6.90874019e-310, 6.90874019e-310,\n",
              "        6.90874019e-310, 6.90874019e-310, 6.90874019e-310,\n",
              "        6.90874019e-310],\n",
              "       [6.90874019e-310, 6.90874019e-310, 6.90874019e-310,\n",
              "        6.90874016e-310, 6.90874016e-310, 6.90874016e-310,\n",
              "        6.90874016e-310, 6.90874016e-310, 6.90874016e-310,\n",
              "        6.90874016e-310],\n",
              "       [6.90874016e-310, 6.90874016e-310, 6.90874016e-310,\n",
              "        6.90874016e-310, 6.90874016e-310, 6.90874016e-310,\n",
              "        6.90874016e-310, 6.90874016e-310, 6.90874019e-310,\n",
              "        6.90874016e-310],\n",
              "       [6.90874016e-310, 6.90874016e-310, 6.90874016e-310,\n",
              "        6.90874016e-310, 6.90874019e-310, 6.90874016e-310,\n",
              "        6.90874016e-310, 6.90874016e-310, 6.90874016e-310,\n",
              "        6.90874016e-310]])"
            ]
          },
          "metadata": {
            "tags": []
          },
          "execution_count": 10
        }
      ]
    },
    {
      "cell_type": "code",
      "metadata": {
        "colab": {
          "base_uri": "https://localhost:8080/"
        },
        "id": "3bk6_detmLUt",
        "outputId": "1bc7bea1-ced1-4ed4-978b-19712522f86f"
      },
      "source": [
        "np.zeros(3)"
      ],
      "execution_count": 11,
      "outputs": [
        {
          "output_type": "execute_result",
          "data": {
            "text/plain": [
              "array([0., 0., 0.])"
            ]
          },
          "metadata": {
            "tags": []
          },
          "execution_count": 11
        }
      ]
    },
    {
      "cell_type": "code",
      "metadata": {
        "colab": {
          "base_uri": "https://localhost:8080/"
        },
        "id": "ZZz6Xhy9mf6x",
        "outputId": "bc7393fb-fe45-42a8-8c0e-aa9206c6afc6"
      },
      "source": [
        "np.zeros((5,4))"
      ],
      "execution_count": 13,
      "outputs": [
        {
          "output_type": "execute_result",
          "data": {
            "text/plain": [
              "array([[0., 0., 0., 0.],\n",
              "       [0., 0., 0., 0.],\n",
              "       [0., 0., 0., 0.],\n",
              "       [0., 0., 0., 0.],\n",
              "       [0., 0., 0., 0.]])"
            ]
          },
          "metadata": {
            "tags": []
          },
          "execution_count": 13
        }
      ]
    },
    {
      "cell_type": "code",
      "metadata": {
        "colab": {
          "base_uri": "https://localhost:8080/"
        },
        "id": "KAjjrFKfml5x",
        "outputId": "cb2c5610-a8a7-47d4-dcef-934d311fc03d"
      },
      "source": [
        "np.ones((5,5))"
      ],
      "execution_count": 14,
      "outputs": [
        {
          "output_type": "execute_result",
          "data": {
            "text/plain": [
              "array([[1., 1., 1., 1., 1.],\n",
              "       [1., 1., 1., 1., 1.],\n",
              "       [1., 1., 1., 1., 1.],\n",
              "       [1., 1., 1., 1., 1.],\n",
              "       [1., 1., 1., 1., 1.]])"
            ]
          },
          "metadata": {
            "tags": []
          },
          "execution_count": 14
        }
      ]
    },
    {
      "cell_type": "code",
      "metadata": {
        "colab": {
          "base_uri": "https://localhost:8080/"
        },
        "id": "IOdOrYIAm-g5",
        "outputId": "0badb2e5-2d33-441c-a265-05b111721ce5"
      },
      "source": [
        "np.eye(3)"
      ],
      "execution_count": 16,
      "outputs": [
        {
          "output_type": "execute_result",
          "data": {
            "text/plain": [
              "array([[1., 0., 0.],\n",
              "       [0., 1., 0.],\n",
              "       [0., 0., 1.]])"
            ]
          },
          "metadata": {
            "tags": []
          },
          "execution_count": 16
        }
      ]
    },
    {
      "cell_type": "code",
      "metadata": {
        "colab": {
          "base_uri": "https://localhost:8080/"
        },
        "id": "0gQMthGGnJAA",
        "outputId": "4b33ed93-c948-425e-a238-cb6365216cd1"
      },
      "source": [
        "np.linspace(0,10,100)"
      ],
      "execution_count": 18,
      "outputs": [
        {
          "output_type": "execute_result",
          "data": {
            "text/plain": [
              "array([ 0.        ,  0.1010101 ,  0.2020202 ,  0.3030303 ,  0.4040404 ,\n",
              "        0.50505051,  0.60606061,  0.70707071,  0.80808081,  0.90909091,\n",
              "        1.01010101,  1.11111111,  1.21212121,  1.31313131,  1.41414141,\n",
              "        1.51515152,  1.61616162,  1.71717172,  1.81818182,  1.91919192,\n",
              "        2.02020202,  2.12121212,  2.22222222,  2.32323232,  2.42424242,\n",
              "        2.52525253,  2.62626263,  2.72727273,  2.82828283,  2.92929293,\n",
              "        3.03030303,  3.13131313,  3.23232323,  3.33333333,  3.43434343,\n",
              "        3.53535354,  3.63636364,  3.73737374,  3.83838384,  3.93939394,\n",
              "        4.04040404,  4.14141414,  4.24242424,  4.34343434,  4.44444444,\n",
              "        4.54545455,  4.64646465,  4.74747475,  4.84848485,  4.94949495,\n",
              "        5.05050505,  5.15151515,  5.25252525,  5.35353535,  5.45454545,\n",
              "        5.55555556,  5.65656566,  5.75757576,  5.85858586,  5.95959596,\n",
              "        6.06060606,  6.16161616,  6.26262626,  6.36363636,  6.46464646,\n",
              "        6.56565657,  6.66666667,  6.76767677,  6.86868687,  6.96969697,\n",
              "        7.07070707,  7.17171717,  7.27272727,  7.37373737,  7.47474747,\n",
              "        7.57575758,  7.67676768,  7.77777778,  7.87878788,  7.97979798,\n",
              "        8.08080808,  8.18181818,  8.28282828,  8.38383838,  8.48484848,\n",
              "        8.58585859,  8.68686869,  8.78787879,  8.88888889,  8.98989899,\n",
              "        9.09090909,  9.19191919,  9.29292929,  9.39393939,  9.49494949,\n",
              "        9.5959596 ,  9.6969697 ,  9.7979798 ,  9.8989899 , 10.        ])"
            ]
          },
          "metadata": {
            "tags": []
          },
          "execution_count": 18
        }
      ]
    },
    {
      "cell_type": "markdown",
      "metadata": {
        "id": "6A_bte_1n0m1"
      },
      "source": [
        "# Random"
      ]
    },
    {
      "cell_type": "markdown",
      "metadata": {
        "id": "XJErbRRYodFL"
      },
      "source": [
        "## Rand"
      ]
    },
    {
      "cell_type": "code",
      "metadata": {
        "colab": {
          "base_uri": "https://localhost:8080/"
        },
        "id": "MhklHWMZnazX",
        "outputId": "09d1476a-549d-414f-efc9-dea133319cfb"
      },
      "source": [
        "np.random.rand(10)"
      ],
      "execution_count": 21,
      "outputs": [
        {
          "output_type": "execute_result",
          "data": {
            "text/plain": [
              "array([0.0212538 , 0.50262287, 0.12730965, 0.76493617, 0.57604641,\n",
              "       0.74046774, 0.43728287, 0.47928067, 0.64828438, 0.02441684])"
            ]
          },
          "metadata": {
            "tags": []
          },
          "execution_count": 21
        }
      ]
    },
    {
      "cell_type": "code",
      "metadata": {
        "colab": {
          "base_uri": "https://localhost:8080/"
        },
        "id": "fNgVVZZ2oNZT",
        "outputId": "f06f26fb-993e-45ed-f2ba-96a67f9e4b79"
      },
      "source": [
        "np.random.rand(5,5)"
      ],
      "execution_count": 22,
      "outputs": [
        {
          "output_type": "execute_result",
          "data": {
            "text/plain": [
              "array([[0.65841973, 0.25999426, 0.81927794, 0.01032883, 0.48515158],\n",
              "       [0.58749551, 0.88398275, 0.5970703 , 0.82714142, 0.40381425],\n",
              "       [0.44733148, 0.60467704, 0.22245337, 0.53852912, 0.50785538],\n",
              "       [0.35660976, 0.11108977, 0.03736747, 0.72423982, 0.19230978],\n",
              "       [0.91995832, 0.47516393, 0.0981487 , 0.33001398, 0.8528538 ]])"
            ]
          },
          "metadata": {
            "tags": []
          },
          "execution_count": 22
        }
      ]
    },
    {
      "cell_type": "markdown",
      "metadata": {
        "id": "zoIY68IFofzj"
      },
      "source": [
        "## RandN"
      ]
    },
    {
      "cell_type": "code",
      "metadata": {
        "colab": {
          "base_uri": "https://localhost:8080/"
        },
        "id": "F8Cw3DokobFR",
        "outputId": "791a6cfb-8770-49ae-acfc-18db4449526a"
      },
      "source": [
        "np.random.randn(5)"
      ],
      "execution_count": 23,
      "outputs": [
        {
          "output_type": "execute_result",
          "data": {
            "text/plain": [
              "array([-0.86677069, -0.11945504, -0.97001765, -0.44144287, -0.5782076 ])"
            ]
          },
          "metadata": {
            "tags": []
          },
          "execution_count": 23
        }
      ]
    },
    {
      "cell_type": "code",
      "metadata": {
        "colab": {
          "base_uri": "https://localhost:8080/"
        },
        "id": "1uG3xB_PovE6",
        "outputId": "68959780-03e6-4360-8077-09e57cc74b52"
      },
      "source": [
        "np.random.randn(5,5)"
      ],
      "execution_count": 24,
      "outputs": [
        {
          "output_type": "execute_result",
          "data": {
            "text/plain": [
              "array([[-0.1051148 ,  1.17133494,  1.02234578, -0.865032  , -1.1598271 ],\n",
              "       [ 2.29897004,  0.85350461, -0.56478401,  1.9937082 ,  1.90346397],\n",
              "       [-0.73019007,  0.27085672,  0.48757313, -0.46581918, -0.99569405],\n",
              "       [-0.74409315, -0.49995578, -0.6832948 ,  0.95339862,  1.09692194],\n",
              "       [-0.31364454, -1.29098284, -0.51774504,  0.96776654,  1.01002226]])"
            ]
          },
          "metadata": {
            "tags": []
          },
          "execution_count": 24
        }
      ]
    },
    {
      "cell_type": "markdown",
      "metadata": {
        "id": "oebsQUdho0E8"
      },
      "source": [
        "## RandInt"
      ]
    },
    {
      "cell_type": "code",
      "metadata": {
        "colab": {
          "base_uri": "https://localhost:8080/"
        },
        "id": "JrHuEOUSowsa",
        "outputId": "7e93fe88-51cb-4647-bc7f-cc4157501065"
      },
      "source": [
        "np.random.randint(0,150)"
      ],
      "execution_count": 25,
      "outputs": [
        {
          "output_type": "execute_result",
          "data": {
            "text/plain": [
              "22"
            ]
          },
          "metadata": {
            "tags": []
          },
          "execution_count": 25
        }
      ]
    },
    {
      "cell_type": "code",
      "metadata": {
        "colab": {
          "base_uri": "https://localhost:8080/"
        },
        "id": "BP8B889fo527",
        "outputId": "ae81f0c8-d69e-4028-e682-119102fa94c1"
      },
      "source": [
        "np.random.randint(20,540,50)"
      ],
      "execution_count": 26,
      "outputs": [
        {
          "output_type": "execute_result",
          "data": {
            "text/plain": [
              "array([ 98, 204, 332, 114, 339, 408,  45, 313, 473, 379, 424, 127, 280,\n",
              "       142, 146, 415, 227, 209, 124, 436, 294,  66, 161, 474, 199, 519,\n",
              "       375, 357, 420, 219, 495, 353, 243, 113, 320, 407, 293, 504, 161,\n",
              "       476, 255, 524, 248, 408, 427, 486, 403, 213, 136, 254])"
            ]
          },
          "metadata": {
            "tags": []
          },
          "execution_count": 26
        }
      ]
    },
    {
      "cell_type": "code",
      "metadata": {
        "colab": {
          "base_uri": "https://localhost:8080/"
        },
        "id": "AXaJH4G2o9cf",
        "outputId": "9eb0d51c-c007-494b-8f1e-a29ef0849341"
      },
      "source": [
        "np.random.randint(20,540,(5,5))"
      ],
      "execution_count": 27,
      "outputs": [
        {
          "output_type": "execute_result",
          "data": {
            "text/plain": [
              "array([[348, 159, 138,  64, 372],\n",
              "       [116, 225,  69, 355, 133],\n",
              "       [514,  22, 262, 461, 536],\n",
              "       [345,  36, 484, 198, 251],\n",
              "       [328, 430, 235, 508, 336]])"
            ]
          },
          "metadata": {
            "tags": []
          },
          "execution_count": 27
        }
      ]
    },
    {
      "cell_type": "code",
      "metadata": {
        "colab": {
          "base_uri": "https://localhost:8080/"
        },
        "id": "XBpFAig0pEFI",
        "outputId": "3304f609-6dd2-493d-8fb1-9ecbe6381485"
      },
      "source": [
        "x = np.random.randint(20,540,(5,5))\n",
        "x"
      ],
      "execution_count": 28,
      "outputs": [
        {
          "output_type": "execute_result",
          "data": {
            "text/plain": [
              "array([[478, 379, 234, 388, 268],\n",
              "       [509,  74, 331, 414, 231],\n",
              "       [422, 294,  21, 382, 418],\n",
              "       [393, 306, 183, 104, 410],\n",
              "       [ 21, 403, 445, 437, 503]])"
            ]
          },
          "metadata": {
            "tags": []
          },
          "execution_count": 28
        }
      ]
    },
    {
      "cell_type": "markdown",
      "metadata": {
        "id": "zXNT8DnOpdu-"
      },
      "source": [
        "# Atributos"
      ]
    },
    {
      "cell_type": "code",
      "metadata": {
        "colab": {
          "base_uri": "https://localhost:8080/"
        },
        "id": "7b3AGnYJpRLF",
        "outputId": "2a12acb8-db6f-455d-80fc-2c6488490d3e"
      },
      "source": [
        "x.shape"
      ],
      "execution_count": 30,
      "outputs": [
        {
          "output_type": "execute_result",
          "data": {
            "text/plain": [
              "(5, 5)"
            ]
          },
          "metadata": {
            "tags": []
          },
          "execution_count": 30
        }
      ]
    },
    {
      "cell_type": "code",
      "metadata": {
        "colab": {
          "base_uri": "https://localhost:8080/",
          "height": 162
        },
        "id": "UXosT4U2plN-",
        "outputId": "88c5ca92-4053-4b73-e56e-3b25356b075a"
      },
      "source": [
        "my_list.shape"
      ],
      "execution_count": 31,
      "outputs": [
        {
          "output_type": "error",
          "ename": "AttributeError",
          "evalue": "ignored",
          "traceback": [
            "\u001b[0;31m---------------------------------------------------------------------------\u001b[0m",
            "\u001b[0;31mAttributeError\u001b[0m                            Traceback (most recent call last)",
            "\u001b[0;32m<ipython-input-31-f5a9514c5b7a>\u001b[0m in \u001b[0;36m<module>\u001b[0;34m()\u001b[0m\n\u001b[0;32m----> 1\u001b[0;31m \u001b[0mmy_list\u001b[0m\u001b[0;34m.\u001b[0m\u001b[0mshape\u001b[0m\u001b[0;34m\u001b[0m\u001b[0;34m\u001b[0m\u001b[0m\n\u001b[0m",
            "\u001b[0;31mAttributeError\u001b[0m: 'list' object has no attribute 'shape'"
          ]
        }
      ]
    },
    {
      "cell_type": "code",
      "metadata": {
        "colab": {
          "base_uri": "https://localhost:8080/"
        },
        "id": "6AKV_AUPpo_A",
        "outputId": "a27842c9-74e0-48f4-8f1b-d26c9d5edd83"
      },
      "source": [
        "li = np.arange(0,12)\n",
        "li"
      ],
      "execution_count": 32,
      "outputs": [
        {
          "output_type": "execute_result",
          "data": {
            "text/plain": [
              "array([ 0,  1,  2,  3,  4,  5,  6,  7,  8,  9, 10, 11])"
            ]
          },
          "metadata": {
            "tags": []
          },
          "execution_count": 32
        }
      ]
    },
    {
      "cell_type": "code",
      "metadata": {
        "colab": {
          "base_uri": "https://localhost:8080/"
        },
        "id": "n6SMx740p1hi",
        "outputId": "810f45ac-72e2-4396-d89d-d86a4a3efad7"
      },
      "source": [
        "len(li)"
      ],
      "execution_count": 33,
      "outputs": [
        {
          "output_type": "execute_result",
          "data": {
            "text/plain": [
              "12"
            ]
          },
          "metadata": {
            "tags": []
          },
          "execution_count": 33
        }
      ]
    },
    {
      "cell_type": "code",
      "metadata": {
        "colab": {
          "base_uri": "https://localhost:8080/"
        },
        "id": "NIuiVpa7p3q9",
        "outputId": "4a44a388-515e-4f5e-9a0f-d5e31039977a"
      },
      "source": [
        "lix=li.reshape(3,4)\n",
        "lix"
      ],
      "execution_count": 35,
      "outputs": [
        {
          "output_type": "execute_result",
          "data": {
            "text/plain": [
              "array([[ 0,  1,  2,  3],\n",
              "       [ 4,  5,  6,  7],\n",
              "       [ 8,  9, 10, 11]])"
            ]
          },
          "metadata": {
            "tags": []
          },
          "execution_count": 35
        }
      ]
    },
    {
      "cell_type": "code",
      "metadata": {
        "colab": {
          "base_uri": "https://localhost:8080/"
        },
        "id": "wpkO5cf7qCaO",
        "outputId": "416fa1d8-e59d-4cde-844d-6c1390f89877"
      },
      "source": [
        "li"
      ],
      "execution_count": 36,
      "outputs": [
        {
          "output_type": "execute_result",
          "data": {
            "text/plain": [
              "array([ 0,  1,  2,  3,  4,  5,  6,  7,  8,  9, 10, 11])"
            ]
          },
          "metadata": {
            "tags": []
          },
          "execution_count": 36
        }
      ]
    },
    {
      "cell_type": "code",
      "metadata": {
        "colab": {
          "base_uri": "https://localhost:8080/"
        },
        "id": "cmKDXKZRqHkC",
        "outputId": "715ade1e-2c55-430d-83ae-806f8ea1d320"
      },
      "source": [
        "2**2"
      ],
      "execution_count": 37,
      "outputs": [
        {
          "output_type": "execute_result",
          "data": {
            "text/plain": [
              "4"
            ]
          },
          "metadata": {
            "tags": []
          },
          "execution_count": 37
        }
      ]
    },
    {
      "cell_type": "code",
      "metadata": {
        "colab": {
          "base_uri": "https://localhost:8080/"
        },
        "id": "8r5JDu5YqSUQ",
        "outputId": "107fcdc9-ca11-4f33-c3da-5e1c410baa0b"
      },
      "source": [
        "np.power(2,3)"
      ],
      "execution_count": 39,
      "outputs": [
        {
          "output_type": "execute_result",
          "data": {
            "text/plain": [
              "8"
            ]
          },
          "metadata": {
            "tags": []
          },
          "execution_count": 39
        }
      ]
    },
    {
      "cell_type": "code",
      "metadata": {
        "colab": {
          "base_uri": "https://localhost:8080/"
        },
        "id": "eG9mjQ_hqYZi",
        "outputId": "327c43e9-f5d4-4b32-d497-6052afb3224d"
      },
      "source": [
        "np.sqrt(25)"
      ],
      "execution_count": 41,
      "outputs": [
        {
          "output_type": "execute_result",
          "data": {
            "text/plain": [
              "5.0"
            ]
          },
          "metadata": {
            "tags": []
          },
          "execution_count": 41
        }
      ]
    },
    {
      "cell_type": "code",
      "metadata": {
        "colab": {
          "base_uri": "https://localhost:8080/"
        },
        "id": "3eWItKTLqd2L",
        "outputId": "24a2e218-ab18-40f5-d2a6-faead67192a8"
      },
      "source": [
        "np.exp(2)"
      ],
      "execution_count": 43,
      "outputs": [
        {
          "output_type": "execute_result",
          "data": {
            "text/plain": [
              "7.38905609893065"
            ]
          },
          "metadata": {
            "tags": []
          },
          "execution_count": 43
        }
      ]
    },
    {
      "cell_type": "code",
      "metadata": {
        "colab": {
          "base_uri": "https://localhost:8080/"
        },
        "id": "6DzwTLdEqqcn",
        "outputId": "f2dd15f2-5493-43d5-c41a-b83510bc8f67"
      },
      "source": [
        "p = np.random.randint(20,540,10)\n",
        "p"
      ],
      "execution_count": 45,
      "outputs": [
        {
          "output_type": "execute_result",
          "data": {
            "text/plain": [
              "array([197, 239,  65, 121,  46, 530, 275,  45,  54, 270])"
            ]
          },
          "metadata": {
            "tags": []
          },
          "execution_count": 45
        }
      ]
    },
    {
      "cell_type": "code",
      "metadata": {
        "colab": {
          "base_uri": "https://localhost:8080/"
        },
        "id": "CsTdTH0eqz56",
        "outputId": "d3429af7-37c0-48d2-bb94-6d0d55c6f5d3"
      },
      "source": [
        "p.max()"
      ],
      "execution_count": 46,
      "outputs": [
        {
          "output_type": "execute_result",
          "data": {
            "text/plain": [
              "530"
            ]
          },
          "metadata": {
            "tags": []
          },
          "execution_count": 46
        }
      ]
    },
    {
      "cell_type": "code",
      "metadata": {
        "colab": {
          "base_uri": "https://localhost:8080/"
        },
        "id": "nptfJzD7q-XK",
        "outputId": "26a7380f-ca97-4754-9a7f-d455a7eb47ef"
      },
      "source": [
        "np.max(p)"
      ],
      "execution_count": 47,
      "outputs": [
        {
          "output_type": "execute_result",
          "data": {
            "text/plain": [
              "530"
            ]
          },
          "metadata": {
            "tags": []
          },
          "execution_count": 47
        }
      ]
    },
    {
      "cell_type": "code",
      "metadata": {
        "colab": {
          "base_uri": "https://localhost:8080/"
        },
        "id": "q8aYUDX6rFRY",
        "outputId": "3df9976a-049b-4734-8f6a-d2c6bf19ebe4"
      },
      "source": [
        "p.min()"
      ],
      "execution_count": 48,
      "outputs": [
        {
          "output_type": "execute_result",
          "data": {
            "text/plain": [
              "45"
            ]
          },
          "metadata": {
            "tags": []
          },
          "execution_count": 48
        }
      ]
    },
    {
      "cell_type": "code",
      "metadata": {
        "colab": {
          "base_uri": "https://localhost:8080/"
        },
        "id": "J-ge29l5rRpG",
        "outputId": "19d341df-6396-4be1-f878-493c5e340692"
      },
      "source": [
        "p.mean()"
      ],
      "execution_count": 49,
      "outputs": [
        {
          "output_type": "execute_result",
          "data": {
            "text/plain": [
              "184.2"
            ]
          },
          "metadata": {
            "tags": []
          },
          "execution_count": 49
        }
      ]
    },
    {
      "cell_type": "code",
      "metadata": {
        "colab": {
          "base_uri": "https://localhost:8080/"
        },
        "id": "2g96JicyrS0W",
        "outputId": "375cfbd9-fe2b-4f06-93df-e720437e7b66"
      },
      "source": [
        "p.std()"
      ],
      "execution_count": 50,
      "outputs": [
        {
          "output_type": "execute_result",
          "data": {
            "text/plain": [
              "145.5958790625614"
            ]
          },
          "metadata": {
            "tags": []
          },
          "execution_count": 50
        }
      ]
    },
    {
      "cell_type": "code",
      "metadata": {
        "colab": {
          "base_uri": "https://localhost:8080/"
        },
        "id": "KHBsQ0t8rT5c",
        "outputId": "b309e312-074b-4c88-c695-29390bafc947"
      },
      "source": [
        "p.argmax()"
      ],
      "execution_count": 51,
      "outputs": [
        {
          "output_type": "execute_result",
          "data": {
            "text/plain": [
              "5"
            ]
          },
          "metadata": {
            "tags": []
          },
          "execution_count": 51
        }
      ]
    },
    {
      "cell_type": "code",
      "metadata": {
        "colab": {
          "base_uri": "https://localhost:8080/"
        },
        "id": "UiyOxjGGrXCN",
        "outputId": "4349c897-8c71-4b55-d019-a1ecb10060bb"
      },
      "source": [
        "np.pi"
      ],
      "execution_count": 52,
      "outputs": [
        {
          "output_type": "execute_result",
          "data": {
            "text/plain": [
              "3.141592653589793"
            ]
          },
          "metadata": {
            "tags": []
          },
          "execution_count": 52
        }
      ]
    },
    {
      "cell_type": "code",
      "metadata": {
        "colab": {
          "base_uri": "https://localhost:8080/"
        },
        "id": "8LqDD_ZArsfr",
        "outputId": "b93c1a6b-5de5-4ded-cef5-ea20a3757216"
      },
      "source": [
        "np.exp(1)"
      ],
      "execution_count": 54,
      "outputs": [
        {
          "output_type": "execute_result",
          "data": {
            "text/plain": [
              "2.718281828459045"
            ]
          },
          "metadata": {
            "tags": []
          },
          "execution_count": 54
        }
      ]
    },
    {
      "cell_type": "code",
      "metadata": {
        "colab": {
          "base_uri": "https://localhost:8080/"
        },
        "id": "xZTPTLTvrumn",
        "outputId": "18961fb7-4d24-4f98-e1e2-e7617c92cd6e"
      },
      "source": [
        "np.log(100)"
      ],
      "execution_count": 55,
      "outputs": [
        {
          "output_type": "execute_result",
          "data": {
            "text/plain": [
              "4.605170185988092"
            ]
          },
          "metadata": {
            "tags": []
          },
          "execution_count": 55
        }
      ]
    },
    {
      "cell_type": "code",
      "metadata": {
        "id": "EMGEwgLbryXf"
      },
      "source": [
        "# math\n",
        "# funciones matemáticas básicas"
      ],
      "execution_count": 56,
      "outputs": []
    },
    {
      "cell_type": "markdown",
      "metadata": {
        "id": "_2qxMs8er9jT"
      },
      "source": [
        "# Operaciones "
      ]
    },
    {
      "cell_type": "code",
      "metadata": {
        "colab": {
          "base_uri": "https://localhost:8080/"
        },
        "id": "zlDZkubisMTv",
        "outputId": "7e652251-d000-428c-dda3-0b0296f5856f"
      },
      "source": [
        "p"
      ],
      "execution_count": 59,
      "outputs": [
        {
          "output_type": "execute_result",
          "data": {
            "text/plain": [
              "array([197, 239,  65, 121,  46, 530, 275,  45,  54, 270])"
            ]
          },
          "metadata": {
            "tags": []
          },
          "execution_count": 59
        }
      ]
    },
    {
      "cell_type": "code",
      "metadata": {
        "colab": {
          "base_uri": "https://localhost:8080/"
        },
        "id": "3zQTFGWKr7U3",
        "outputId": "d7509d5c-cad9-4189-86c7-690f717c765e"
      },
      "source": [
        "p+p"
      ],
      "execution_count": 57,
      "outputs": [
        {
          "output_type": "execute_result",
          "data": {
            "text/plain": [
              "array([ 394,  478,  130,  242,   92, 1060,  550,   90,  108,  540])"
            ]
          },
          "metadata": {
            "tags": []
          },
          "execution_count": 57
        }
      ]
    },
    {
      "cell_type": "code",
      "metadata": {
        "colab": {
          "base_uri": "https://localhost:8080/"
        },
        "id": "QRdUHQs5sEuE",
        "outputId": "0055b705-ec38-4f0f-cbf9-30bcca752147"
      },
      "source": [
        "p*p"
      ],
      "execution_count": 58,
      "outputs": [
        {
          "output_type": "execute_result",
          "data": {
            "text/plain": [
              "array([ 38809,  57121,   4225,  14641,   2116, 280900,  75625,   2025,\n",
              "         2916,  72900])"
            ]
          },
          "metadata": {
            "tags": []
          },
          "execution_count": 58
        }
      ]
    },
    {
      "cell_type": "code",
      "metadata": {
        "colab": {
          "base_uri": "https://localhost:8080/"
        },
        "id": "vQFjqJPVsG-E",
        "outputId": "5803b085-2918-4e5e-e0ce-1434d3aa76f4"
      },
      "source": [
        "197**2"
      ],
      "execution_count": 60,
      "outputs": [
        {
          "output_type": "execute_result",
          "data": {
            "text/plain": [
              "38809"
            ]
          },
          "metadata": {
            "tags": []
          },
          "execution_count": 60
        }
      ]
    },
    {
      "cell_type": "code",
      "metadata": {
        "colab": {
          "base_uri": "https://localhost:8080/"
        },
        "id": "2uzyZZ0gsOfs",
        "outputId": "740ba96f-f158-430b-d3a5-a0aeea040289"
      },
      "source": [
        "np.dot(p,p)"
      ],
      "execution_count": 61,
      "outputs": [
        {
          "output_type": "execute_result",
          "data": {
            "text/plain": [
              "551278"
            ]
          },
          "metadata": {
            "tags": []
          },
          "execution_count": 61
        }
      ]
    },
    {
      "cell_type": "code",
      "metadata": {
        "colab": {
          "base_uri": "https://localhost:8080/",
          "height": 162
        },
        "id": "T7jcBByAsXYJ",
        "outputId": "690655f6-4c46-4c37-b0d4-dfd41a8bc467"
      },
      "source": [
        "0/0"
      ],
      "execution_count": 62,
      "outputs": [
        {
          "output_type": "error",
          "ename": "ZeroDivisionError",
          "evalue": "ignored",
          "traceback": [
            "\u001b[0;31m---------------------------------------------------------------------------\u001b[0m",
            "\u001b[0;31mZeroDivisionError\u001b[0m                         Traceback (most recent call last)",
            "\u001b[0;32m<ipython-input-62-9ab73e148374>\u001b[0m in \u001b[0;36m<module>\u001b[0;34m()\u001b[0m\n\u001b[0;32m----> 1\u001b[0;31m \u001b[0;36m0\u001b[0m\u001b[0;34m/\u001b[0m\u001b[0;36m0\u001b[0m\u001b[0;34m\u001b[0m\u001b[0;34m\u001b[0m\u001b[0m\n\u001b[0m",
            "\u001b[0;31mZeroDivisionError\u001b[0m: division by zero"
          ]
        }
      ]
    },
    {
      "cell_type": "code",
      "metadata": {
        "colab": {
          "base_uri": "https://localhost:8080/"
        },
        "id": "OUNLgClbsdFm",
        "outputId": "1f52ff0b-a60b-42b8-f0cb-7d8223479d51"
      },
      "source": [
        "np.nan"
      ],
      "execution_count": 64,
      "outputs": [
        {
          "output_type": "execute_result",
          "data": {
            "text/plain": [
              "nan"
            ]
          },
          "metadata": {
            "tags": []
          },
          "execution_count": 64
        }
      ]
    },
    {
      "cell_type": "code",
      "metadata": {
        "id": "HgUL7hrmshXm"
      },
      "source": [
        "t = np.arange(0,10)"
      ],
      "execution_count": 66,
      "outputs": []
    },
    {
      "cell_type": "code",
      "metadata": {
        "colab": {
          "base_uri": "https://localhost:8080/"
        },
        "id": "nFOcmuQdsuRD",
        "outputId": "58358bb1-9b2e-4b0f-da24-67325489dd75"
      },
      "source": [
        "t/t"
      ],
      "execution_count": 67,
      "outputs": [
        {
          "output_type": "stream",
          "text": [
            "/usr/local/lib/python3.7/dist-packages/ipykernel_launcher.py:1: RuntimeWarning: invalid value encountered in true_divide\n",
            "  \"\"\"Entry point for launching an IPython kernel.\n"
          ],
          "name": "stderr"
        },
        {
          "output_type": "execute_result",
          "data": {
            "text/plain": [
              "array([nan,  1.,  1.,  1.,  1.,  1.,  1.,  1.,  1.,  1.])"
            ]
          },
          "metadata": {
            "tags": []
          },
          "execution_count": 67
        }
      ]
    },
    {
      "cell_type": "code",
      "metadata": {
        "colab": {
          "base_uri": "https://localhost:8080/"
        },
        "id": "M4M1BCyes2hF",
        "outputId": "ca77d150-2d81-4d63-cc23-d547ba6b8710"
      },
      "source": [
        "p**3"
      ],
      "execution_count": 68,
      "outputs": [
        {
          "output_type": "execute_result",
          "data": {
            "text/plain": [
              "array([  7645373,  13651919,    274625,   1771561,     97336, 148877000,\n",
              "        20796875,     91125,    157464,  19683000])"
            ]
          },
          "metadata": {
            "tags": []
          },
          "execution_count": 68
        }
      ]
    },
    {
      "cell_type": "code",
      "metadata": {
        "colab": {
          "base_uri": "https://localhost:8080/"
        },
        "id": "a-C_2n-vs-yu",
        "outputId": "b340d10c-1b5a-4301-9790-1ad0a2000717"
      },
      "source": [
        "np.sqrt(p)"
      ],
      "execution_count": 69,
      "outputs": [
        {
          "output_type": "execute_result",
          "data": {
            "text/plain": [
              "array([14.03566885, 15.45962483,  8.06225775, 11.        ,  6.78232998,\n",
              "       23.02172887, 16.58312395,  6.70820393,  7.34846923, 16.43167673])"
            ]
          },
          "metadata": {
            "tags": []
          },
          "execution_count": 69
        }
      ]
    },
    {
      "cell_type": "code",
      "metadata": {
        "colab": {
          "base_uri": "https://localhost:8080/"
        },
        "id": "IHSXGTYatFBA",
        "outputId": "6c058a91-dc89-4209-97b8-911f1c1746c5"
      },
      "source": [
        "np.exp(p)"
      ],
      "execution_count": 70,
      "outputs": [
        {
          "output_type": "execute_result",
          "data": {
            "text/plain": [
              "array([3.59760050e+085, 6.25721640e+103, 1.69488924e+028, 3.54513118e+052,\n",
              "       9.49611942e+019, 1.49994526e+230, 2.69763087e+119, 3.49342711e+019,\n",
              "       2.83075330e+023, 1.81764939e+117])"
            ]
          },
          "metadata": {
            "tags": []
          },
          "execution_count": 70
        }
      ]
    },
    {
      "cell_type": "code",
      "metadata": {
        "colab": {
          "base_uri": "https://localhost:8080/"
        },
        "id": "aXszAvi1tGxG",
        "outputId": "ad146a18-88b1-4010-c3b6-a629f73db6c1"
      },
      "source": [
        "np.max(p)"
      ],
      "execution_count": 71,
      "outputs": [
        {
          "output_type": "execute_result",
          "data": {
            "text/plain": [
              "530"
            ]
          },
          "metadata": {
            "tags": []
          },
          "execution_count": 71
        }
      ]
    },
    {
      "cell_type": "code",
      "metadata": {
        "colab": {
          "base_uri": "https://localhost:8080/"
        },
        "id": "uPSZUki9tLlE",
        "outputId": "3b0ce287-1e62-48c6-e2ee-c290723d9924"
      },
      "source": [
        "np.sin(p)"
      ],
      "execution_count": 72,
      "outputs": [
        {
          "output_type": "execute_result",
          "data": {
            "text/plain": [
              "array([ 0.79580584,  0.23669068,  0.82682868,  0.99881522,  0.90178835,\n",
              "        0.80111655, -0.99388533,  0.85090352, -0.55878905, -0.17604595])"
            ]
          },
          "metadata": {
            "tags": []
          },
          "execution_count": 72
        }
      ]
    },
    {
      "cell_type": "code",
      "metadata": {
        "colab": {
          "base_uri": "https://localhost:8080/"
        },
        "id": "SzwXqXIntM31",
        "outputId": "96104cf5-82d3-4f95-c5fc-cb98d1ce19f4"
      },
      "source": [
        "np.cos(p)"
      ],
      "execution_count": 73,
      "outputs": [
        {
          "output_type": "execute_result",
          "data": {
            "text/plain": [
              "array([-0.60555186,  0.97158506, -0.56245385, -0.04866361, -0.43217794,\n",
              "       -0.59850837,  0.1104172 ,  0.52532199, -0.82930983,  0.98438195])"
            ]
          },
          "metadata": {
            "tags": []
          },
          "execution_count": 73
        }
      ]
    },
    {
      "cell_type": "code",
      "metadata": {
        "colab": {
          "base_uri": "https://localhost:8080/"
        },
        "id": "BkXv5NihtPSE",
        "outputId": "d4aad461-6b94-4cb9-8c11-c332910fdc32"
      },
      "source": [
        "arr = np.array([11,12,13,14,15,16,17,15,11,12,14,15,16,17])\n",
        "arr"
      ],
      "execution_count": 76,
      "outputs": [
        {
          "output_type": "execute_result",
          "data": {
            "text/plain": [
              "array([11, 12, 13, 14, 15, 16, 17, 15, 11, 12, 14, 15, 16, 17])"
            ]
          },
          "metadata": {
            "tags": []
          },
          "execution_count": 76
        }
      ]
    },
    {
      "cell_type": "code",
      "metadata": {
        "colab": {
          "base_uri": "https://localhost:8080/"
        },
        "id": "PXM-2Uk_thn8",
        "outputId": "74255acd-4952-44bd-905a-95dde61bebc6"
      },
      "source": [
        "result = np.where(arr==15)\n",
        "result"
      ],
      "execution_count": 80,
      "outputs": [
        {
          "output_type": "execute_result",
          "data": {
            "text/plain": [
              "(array([ 4,  7, 11]),)"
            ]
          },
          "metadata": {
            "tags": []
          },
          "execution_count": 80
        }
      ]
    },
    {
      "cell_type": "code",
      "metadata": {
        "colab": {
          "base_uri": "https://localhost:8080/"
        },
        "id": "21jjYiLNtwku",
        "outputId": "e03d95db-92da-46d5-b715-a6f35b6383bb"
      },
      "source": [
        "arr[result]"
      ],
      "execution_count": 81,
      "outputs": [
        {
          "output_type": "execute_result",
          "data": {
            "text/plain": [
              "array([15, 15, 15])"
            ]
          },
          "metadata": {
            "tags": []
          },
          "execution_count": 81
        }
      ]
    },
    {
      "cell_type": "markdown",
      "metadata": {
        "id": "k25Sf9iWuYid"
      },
      "source": [
        "# Indexación 1D"
      ]
    },
    {
      "cell_type": "code",
      "metadata": {
        "colab": {
          "base_uri": "https://localhost:8080/"
        },
        "id": "C6Nk4gdAuYGV",
        "outputId": "ea99a213-6c80-4ef4-e4d5-9eddcc66a206"
      },
      "source": [
        "arr[5]"
      ],
      "execution_count": 82,
      "outputs": [
        {
          "output_type": "execute_result",
          "data": {
            "text/plain": [
              "16"
            ]
          },
          "metadata": {
            "tags": []
          },
          "execution_count": 82
        }
      ]
    },
    {
      "cell_type": "code",
      "metadata": {
        "colab": {
          "base_uri": "https://localhost:8080/"
        },
        "id": "g4x15MiBuJi5",
        "outputId": "dcd55467-532f-4347-fead-dfeda7e18184"
      },
      "source": [
        "x=arr[3:-1]\n",
        "x"
      ],
      "execution_count": 84,
      "outputs": [
        {
          "output_type": "execute_result",
          "data": {
            "text/plain": [
              "array([14, 15, 16, 17, 15, 11, 12, 14, 15, 16])"
            ]
          },
          "metadata": {
            "tags": []
          },
          "execution_count": 84
        }
      ]
    },
    {
      "cell_type": "code",
      "metadata": {
        "colab": {
          "base_uri": "https://localhost:8080/"
        },
        "id": "3V_UasOquu09",
        "outputId": "4417ecf1-bb74-4b17-c6a8-f9b92b96e330"
      },
      "source": [
        "arr[-1]"
      ],
      "execution_count": 85,
      "outputs": [
        {
          "output_type": "execute_result",
          "data": {
            "text/plain": [
              "17"
            ]
          },
          "metadata": {
            "tags": []
          },
          "execution_count": 85
        }
      ]
    },
    {
      "cell_type": "code",
      "metadata": {
        "colab": {
          "base_uri": "https://localhost:8080/"
        },
        "id": "-6h2PtfAuybK",
        "outputId": "f5568b71-cdee-4d63-e3f7-310db357a080"
      },
      "source": [
        "arr[3:]"
      ],
      "execution_count": 86,
      "outputs": [
        {
          "output_type": "execute_result",
          "data": {
            "text/plain": [
              "array([14, 15, 16, 17, 15, 11, 12, 14, 15, 16, 17])"
            ]
          },
          "metadata": {
            "tags": []
          },
          "execution_count": 86
        }
      ]
    },
    {
      "cell_type": "code",
      "metadata": {
        "id": "CAZIbFKcu04R"
      },
      "source": [
        "arr[2:5]=100"
      ],
      "execution_count": 87,
      "outputs": []
    },
    {
      "cell_type": "code",
      "metadata": {
        "colab": {
          "base_uri": "https://localhost:8080/"
        },
        "id": "ELBLCmRzu6wA",
        "outputId": "8cf27286-a3e3-4927-c3a1-f94af7bcb8e2"
      },
      "source": [
        "arr"
      ],
      "execution_count": 88,
      "outputs": [
        {
          "output_type": "execute_result",
          "data": {
            "text/plain": [
              "array([ 11,  12, 100, 100, 100,  16,  17,  15,  11,  12,  14,  15,  16,\n",
              "        17])"
            ]
          },
          "metadata": {
            "tags": []
          },
          "execution_count": 88
        }
      ]
    },
    {
      "cell_type": "markdown",
      "metadata": {
        "id": "IkNwEDQxvC0S"
      },
      "source": [
        "# Indexación 2D"
      ]
    },
    {
      "cell_type": "code",
      "metadata": {
        "colab": {
          "base_uri": "https://localhost:8080/"
        },
        "id": "gzri2cexu7TU",
        "outputId": "1aa86cdf-c7cc-4791-933c-79a7d76fcd90"
      },
      "source": [
        "m = np.array(my_matrix)\n",
        "m"
      ],
      "execution_count": 91,
      "outputs": [
        {
          "output_type": "execute_result",
          "data": {
            "text/plain": [
              "array([[1, 2, 3],\n",
              "       [4, 5, 6],\n",
              "       [6, 7, 8]])"
            ]
          },
          "metadata": {
            "tags": []
          },
          "execution_count": 91
        }
      ]
    },
    {
      "cell_type": "code",
      "metadata": {
        "colab": {
          "base_uri": "https://localhost:8080/"
        },
        "id": "xPRJAaHdvFic",
        "outputId": "c2bf607b-eb3c-4723-bbc9-9927ffd94755"
      },
      "source": [
        "m[0,0]"
      ],
      "execution_count": 92,
      "outputs": [
        {
          "output_type": "execute_result",
          "data": {
            "text/plain": [
              "1"
            ]
          },
          "metadata": {
            "tags": []
          },
          "execution_count": 92
        }
      ]
    },
    {
      "cell_type": "code",
      "metadata": {
        "colab": {
          "base_uri": "https://localhost:8080/"
        },
        "id": "tkQv44g2vdy4",
        "outputId": "f1397de9-2c72-4a7f-f000-9369cfd66665"
      },
      "source": [
        "m[0][0]"
      ],
      "execution_count": 93,
      "outputs": [
        {
          "output_type": "execute_result",
          "data": {
            "text/plain": [
              "1"
            ]
          },
          "metadata": {
            "tags": []
          },
          "execution_count": 93
        }
      ]
    },
    {
      "cell_type": "code",
      "metadata": {
        "colab": {
          "base_uri": "https://localhost:8080/"
        },
        "id": "XtkPQrXQvfbB",
        "outputId": "aa1b7cd6-411d-4151-e69d-2d16c4f683b9"
      },
      "source": [
        "m[0:2][1:]"
      ],
      "execution_count": 96,
      "outputs": [
        {
          "output_type": "execute_result",
          "data": {
            "text/plain": [
              "array([[4, 5, 6]])"
            ]
          },
          "metadata": {
            "tags": []
          },
          "execution_count": 96
        }
      ]
    },
    {
      "cell_type": "code",
      "metadata": {
        "colab": {
          "base_uri": "https://localhost:8080/"
        },
        "id": "Ru3wmkCtv1OP",
        "outputId": "0be60474-3edd-4216-b056-2fd05f98caa3"
      },
      "source": [
        "m[0:2,1:]"
      ],
      "execution_count": 97,
      "outputs": [
        {
          "output_type": "execute_result",
          "data": {
            "text/plain": [
              "array([[2, 3],\n",
              "       [5, 6]])"
            ]
          },
          "metadata": {
            "tags": []
          },
          "execution_count": 97
        }
      ]
    },
    {
      "cell_type": "code",
      "metadata": {
        "colab": {
          "base_uri": "https://localhost:8080/"
        },
        "id": "cUKTVjIywaOM",
        "outputId": "4edc8901-60c3-414d-81f8-e1ce90d2511e"
      },
      "source": [
        "### no hagan esto\n",
        "A = m \n",
        "A"
      ],
      "execution_count": 99,
      "outputs": [
        {
          "output_type": "execute_result",
          "data": {
            "text/plain": [
              "array([[1, 2, 3],\n",
              "       [4, 5, 6],\n",
              "       [6, 7, 8]])"
            ]
          },
          "metadata": {
            "tags": []
          },
          "execution_count": 99
        }
      ]
    },
    {
      "cell_type": "code",
      "metadata": {
        "colab": {
          "base_uri": "https://localhost:8080/"
        },
        "id": "xnNXiM5cwvqi",
        "outputId": "7a367eb2-976a-4a52-fab2-12580414c3e8"
      },
      "source": [
        "n = np.copy(m)\n",
        "n"
      ],
      "execution_count": 101,
      "outputs": [
        {
          "output_type": "execute_result",
          "data": {
            "text/plain": [
              "array([[1, 2, 3],\n",
              "       [4, 5, 6],\n",
              "       [6, 7, 8]])"
            ]
          },
          "metadata": {
            "tags": []
          },
          "execution_count": 101
        }
      ]
    },
    {
      "cell_type": "code",
      "metadata": {
        "colab": {
          "base_uri": "https://localhost:8080/"
        },
        "id": "_XBiPcuxw7mW",
        "outputId": "924f1d83-edb9-4cc8-f1a6-eeeb7bb74658"
      },
      "source": [
        "t"
      ],
      "execution_count": 102,
      "outputs": [
        {
          "output_type": "execute_result",
          "data": {
            "text/plain": [
              "array([0, 1, 2, 3, 4, 5, 6, 7, 8, 9])"
            ]
          },
          "metadata": {
            "tags": []
          },
          "execution_count": 102
        }
      ]
    },
    {
      "cell_type": "code",
      "metadata": {
        "colab": {
          "base_uri": "https://localhost:8080/",
          "height": 162
        },
        "id": "qNlR_4XjxIHL",
        "outputId": "cc3399cc-2f0c-4c6e-a31d-ab112f173dc5"
      },
      "source": [
        "t[(t<5) and (t>8)]"
      ],
      "execution_count": 106,
      "outputs": [
        {
          "output_type": "error",
          "ename": "ValueError",
          "evalue": "ignored",
          "traceback": [
            "\u001b[0;31m---------------------------------------------------------------------------\u001b[0m",
            "\u001b[0;31mValueError\u001b[0m                                Traceback (most recent call last)",
            "\u001b[0;32m<ipython-input-106-5ec5dd5e0fcb>\u001b[0m in \u001b[0;36m<module>\u001b[0;34m()\u001b[0m\n\u001b[0;32m----> 1\u001b[0;31m \u001b[0mt\u001b[0m\u001b[0;34m[\u001b[0m\u001b[0;34m(\u001b[0m\u001b[0mt\u001b[0m\u001b[0;34m<\u001b[0m\u001b[0;36m5\u001b[0m\u001b[0;34m)\u001b[0m \u001b[0;32mand\u001b[0m \u001b[0;34m(\u001b[0m\u001b[0mt\u001b[0m\u001b[0;34m>\u001b[0m\u001b[0;36m8\u001b[0m\u001b[0;34m)\u001b[0m\u001b[0;34m]\u001b[0m\u001b[0;34m\u001b[0m\u001b[0;34m\u001b[0m\u001b[0m\n\u001b[0m",
            "\u001b[0;31mValueError\u001b[0m: The truth value of an array with more than one element is ambiguous. Use a.any() or a.all()"
          ]
        }
      ]
    },
    {
      "cell_type": "code",
      "metadata": {
        "colab": {
          "base_uri": "https://localhost:8080/"
        },
        "id": "LblUfclkxPLv",
        "outputId": "c3ad2d65-aa55-44b0-e863-7dd429f995d4"
      },
      "source": [
        "#t[np.and()]\n",
        "np.logical_or(t<5,t>8)"
      ],
      "execution_count": 109,
      "outputs": [
        {
          "output_type": "execute_result",
          "data": {
            "text/plain": [
              "array([ True,  True,  True,  True,  True, False, False, False, False,\n",
              "        True])"
            ]
          },
          "metadata": {
            "tags": []
          },
          "execution_count": 109
        }
      ]
    },
    {
      "cell_type": "code",
      "metadata": {
        "colab": {
          "base_uri": "https://localhost:8080/"
        },
        "id": "ASFI1pauxhcG",
        "outputId": "9d21e89c-e9d7-4c5f-8405-863f7724ae3b"
      },
      "source": [
        "t[np.logical_or(t<5,t>8)]"
      ],
      "execution_count": 110,
      "outputs": [
        {
          "output_type": "execute_result",
          "data": {
            "text/plain": [
              "array([0, 1, 2, 3, 4, 9])"
            ]
          },
          "metadata": {
            "tags": []
          },
          "execution_count": 110
        }
      ]
    },
    {
      "cell_type": "markdown",
      "metadata": {
        "id": "vtic9uXdyB6H"
      },
      "source": [
        "# FIN"
      ]
    }
  ]
}